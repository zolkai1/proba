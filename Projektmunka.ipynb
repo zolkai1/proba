{
  "nbformat": 4,
  "nbformat_minor": 0,
  "metadata": {
    "colab": {
      "provenance": [],
      "toc_visible": true,
      "include_colab_link": true
    },
    "kernelspec": {
      "name": "python3",
      "display_name": "Python 3"
    },
    "language_info": {
      "name": "python"
    }
  },
  "cells": [
    {
      "cell_type": "markdown",
      "metadata": {
        "id": "view-in-github",
        "colab_type": "text"
      },
      "source": [
        "<a href=\"https://colab.research.google.com/github/zolkai1/proba/blob/main/Projektmunka.ipynb\" target=\"_parent\"><img src=\"https://colab.research.google.com/assets/colab-badge.svg\" alt=\"Open In Colab\"/></a>"
      ]
    },
    {
      "cell_type": "markdown",
      "source": [],
      "metadata": {
        "id": "6XYSZ9GmC-YO"
      }
    },
    {
      "cell_type": "code",
      "source": [],
      "metadata": {
        "id": "JqNh--lftw2V"
      },
      "execution_count": null,
      "outputs": []
    },
    {
      "cell_type": "code",
      "source": [
        "!git clone https://github.com/zolkai1/proba1.git"
      ],
      "metadata": {
        "colab": {
          "base_uri": "https://localhost:8080/"
        },
        "id": "nXI5zgxDIYRg",
        "outputId": "0b244838-dd15-4a83-c2e7-28b74bf48ff3"
      },
      "execution_count": null,
      "outputs": [
        {
          "output_type": "stream",
          "name": "stdout",
          "text": [
            "Cloning into 'proba1'...\n",
            "fatal: could not read Username for 'https://github.com': No such device or address\n"
          ]
        }
      ]
    },
    {
      "cell_type": "markdown",
      "source": [
        "GITHUBRA KLÓNOZÁS (jelenleg nem megy 2024.11.05)"
      ],
      "metadata": {
        "id": "6rXo-hYFmibM"
      }
    },
    {
      "cell_type": "code",
      "source": [
        "import pandas as pd"
      ],
      "metadata": {
        "id": "rc0LNTwBDJsH"
      },
      "execution_count": null,
      "outputs": []
    },
    {
      "cell_type": "code",
      "source": [
        "summer = pd.read_csv('summer.csv')\n",
        "winter = pd.read_csv(\"winter.csv\")\n",
        "dic = pd.read_csv(\"dictionary.csv\")"
      ],
      "metadata": {
        "id": "JD-3J_WsDFe7",
        "colab": {
          "base_uri": "https://localhost:8080/",
          "height": 339
        },
        "outputId": "1237a138-0d9d-4ca5-957e-4372334482a7"
      },
      "execution_count": null,
      "outputs": [
        {
          "output_type": "error",
          "ename": "FileNotFoundError",
          "evalue": "[Errno 2] No such file or directory: 'summer.csv'",
          "traceback": [
            "\u001b[0;31m---------------------------------------------------------------------------\u001b[0m",
            "\u001b[0;31mFileNotFoundError\u001b[0m                         Traceback (most recent call last)",
            "\u001b[0;32m<ipython-input-4-e3a35ddc66aa>\u001b[0m in \u001b[0;36m<cell line: 1>\u001b[0;34m()\u001b[0m\n\u001b[0;32m----> 1\u001b[0;31m \u001b[0msummer\u001b[0m \u001b[0;34m=\u001b[0m \u001b[0mpd\u001b[0m\u001b[0;34m.\u001b[0m\u001b[0mread_csv\u001b[0m\u001b[0;34m(\u001b[0m\u001b[0;34m'summer.csv'\u001b[0m\u001b[0;34m)\u001b[0m\u001b[0;34m\u001b[0m\u001b[0;34m\u001b[0m\u001b[0m\n\u001b[0m\u001b[1;32m      2\u001b[0m \u001b[0mwinter\u001b[0m \u001b[0;34m=\u001b[0m \u001b[0mpd\u001b[0m\u001b[0;34m.\u001b[0m\u001b[0mread_csv\u001b[0m\u001b[0;34m(\u001b[0m\u001b[0;34m\"winter.csv\"\u001b[0m\u001b[0;34m)\u001b[0m\u001b[0;34m\u001b[0m\u001b[0;34m\u001b[0m\u001b[0m\n\u001b[1;32m      3\u001b[0m \u001b[0mdic\u001b[0m \u001b[0;34m=\u001b[0m \u001b[0mpd\u001b[0m\u001b[0;34m.\u001b[0m\u001b[0mread_csv\u001b[0m\u001b[0;34m(\u001b[0m\u001b[0;34m\"dictionary.csv\"\u001b[0m\u001b[0;34m)\u001b[0m\u001b[0;34m\u001b[0m\u001b[0;34m\u001b[0m\u001b[0m\n",
            "\u001b[0;32m/usr/local/lib/python3.10/dist-packages/pandas/io/parsers/readers.py\u001b[0m in \u001b[0;36mread_csv\u001b[0;34m(filepath_or_buffer, sep, delimiter, header, names, index_col, usecols, dtype, engine, converters, true_values, false_values, skipinitialspace, skiprows, skipfooter, nrows, na_values, keep_default_na, na_filter, verbose, skip_blank_lines, parse_dates, infer_datetime_format, keep_date_col, date_parser, date_format, dayfirst, cache_dates, iterator, chunksize, compression, thousands, decimal, lineterminator, quotechar, quoting, doublequote, escapechar, comment, encoding, encoding_errors, dialect, on_bad_lines, delim_whitespace, low_memory, memory_map, float_precision, storage_options, dtype_backend)\u001b[0m\n\u001b[1;32m   1024\u001b[0m     \u001b[0mkwds\u001b[0m\u001b[0;34m.\u001b[0m\u001b[0mupdate\u001b[0m\u001b[0;34m(\u001b[0m\u001b[0mkwds_defaults\u001b[0m\u001b[0;34m)\u001b[0m\u001b[0;34m\u001b[0m\u001b[0;34m\u001b[0m\u001b[0m\n\u001b[1;32m   1025\u001b[0m \u001b[0;34m\u001b[0m\u001b[0m\n\u001b[0;32m-> 1026\u001b[0;31m     \u001b[0;32mreturn\u001b[0m \u001b[0m_read\u001b[0m\u001b[0;34m(\u001b[0m\u001b[0mfilepath_or_buffer\u001b[0m\u001b[0;34m,\u001b[0m \u001b[0mkwds\u001b[0m\u001b[0;34m)\u001b[0m\u001b[0;34m\u001b[0m\u001b[0;34m\u001b[0m\u001b[0m\n\u001b[0m\u001b[1;32m   1027\u001b[0m \u001b[0;34m\u001b[0m\u001b[0m\n\u001b[1;32m   1028\u001b[0m \u001b[0;34m\u001b[0m\u001b[0m\n",
            "\u001b[0;32m/usr/local/lib/python3.10/dist-packages/pandas/io/parsers/readers.py\u001b[0m in \u001b[0;36m_read\u001b[0;34m(filepath_or_buffer, kwds)\u001b[0m\n\u001b[1;32m    618\u001b[0m \u001b[0;34m\u001b[0m\u001b[0m\n\u001b[1;32m    619\u001b[0m     \u001b[0;31m# Create the parser.\u001b[0m\u001b[0;34m\u001b[0m\u001b[0;34m\u001b[0m\u001b[0m\n\u001b[0;32m--> 620\u001b[0;31m     \u001b[0mparser\u001b[0m \u001b[0;34m=\u001b[0m \u001b[0mTextFileReader\u001b[0m\u001b[0;34m(\u001b[0m\u001b[0mfilepath_or_buffer\u001b[0m\u001b[0;34m,\u001b[0m \u001b[0;34m**\u001b[0m\u001b[0mkwds\u001b[0m\u001b[0;34m)\u001b[0m\u001b[0;34m\u001b[0m\u001b[0;34m\u001b[0m\u001b[0m\n\u001b[0m\u001b[1;32m    621\u001b[0m \u001b[0;34m\u001b[0m\u001b[0m\n\u001b[1;32m    622\u001b[0m     \u001b[0;32mif\u001b[0m \u001b[0mchunksize\u001b[0m \u001b[0;32mor\u001b[0m \u001b[0miterator\u001b[0m\u001b[0;34m:\u001b[0m\u001b[0;34m\u001b[0m\u001b[0;34m\u001b[0m\u001b[0m\n",
            "\u001b[0;32m/usr/local/lib/python3.10/dist-packages/pandas/io/parsers/readers.py\u001b[0m in \u001b[0;36m__init__\u001b[0;34m(self, f, engine, **kwds)\u001b[0m\n\u001b[1;32m   1618\u001b[0m \u001b[0;34m\u001b[0m\u001b[0m\n\u001b[1;32m   1619\u001b[0m         \u001b[0mself\u001b[0m\u001b[0;34m.\u001b[0m\u001b[0mhandles\u001b[0m\u001b[0;34m:\u001b[0m \u001b[0mIOHandles\u001b[0m \u001b[0;34m|\u001b[0m \u001b[0;32mNone\u001b[0m \u001b[0;34m=\u001b[0m \u001b[0;32mNone\u001b[0m\u001b[0;34m\u001b[0m\u001b[0;34m\u001b[0m\u001b[0m\n\u001b[0;32m-> 1620\u001b[0;31m         \u001b[0mself\u001b[0m\u001b[0;34m.\u001b[0m\u001b[0m_engine\u001b[0m \u001b[0;34m=\u001b[0m \u001b[0mself\u001b[0m\u001b[0;34m.\u001b[0m\u001b[0m_make_engine\u001b[0m\u001b[0;34m(\u001b[0m\u001b[0mf\u001b[0m\u001b[0;34m,\u001b[0m \u001b[0mself\u001b[0m\u001b[0;34m.\u001b[0m\u001b[0mengine\u001b[0m\u001b[0;34m)\u001b[0m\u001b[0;34m\u001b[0m\u001b[0;34m\u001b[0m\u001b[0m\n\u001b[0m\u001b[1;32m   1621\u001b[0m \u001b[0;34m\u001b[0m\u001b[0m\n\u001b[1;32m   1622\u001b[0m     \u001b[0;32mdef\u001b[0m \u001b[0mclose\u001b[0m\u001b[0;34m(\u001b[0m\u001b[0mself\u001b[0m\u001b[0;34m)\u001b[0m \u001b[0;34m->\u001b[0m \u001b[0;32mNone\u001b[0m\u001b[0;34m:\u001b[0m\u001b[0;34m\u001b[0m\u001b[0;34m\u001b[0m\u001b[0m\n",
            "\u001b[0;32m/usr/local/lib/python3.10/dist-packages/pandas/io/parsers/readers.py\u001b[0m in \u001b[0;36m_make_engine\u001b[0;34m(self, f, engine)\u001b[0m\n\u001b[1;32m   1878\u001b[0m                 \u001b[0;32mif\u001b[0m \u001b[0;34m\"b\"\u001b[0m \u001b[0;32mnot\u001b[0m \u001b[0;32min\u001b[0m \u001b[0mmode\u001b[0m\u001b[0;34m:\u001b[0m\u001b[0;34m\u001b[0m\u001b[0;34m\u001b[0m\u001b[0m\n\u001b[1;32m   1879\u001b[0m                     \u001b[0mmode\u001b[0m \u001b[0;34m+=\u001b[0m \u001b[0;34m\"b\"\u001b[0m\u001b[0;34m\u001b[0m\u001b[0;34m\u001b[0m\u001b[0m\n\u001b[0;32m-> 1880\u001b[0;31m             self.handles = get_handle(\n\u001b[0m\u001b[1;32m   1881\u001b[0m                 \u001b[0mf\u001b[0m\u001b[0;34m,\u001b[0m\u001b[0;34m\u001b[0m\u001b[0;34m\u001b[0m\u001b[0m\n\u001b[1;32m   1882\u001b[0m                 \u001b[0mmode\u001b[0m\u001b[0;34m,\u001b[0m\u001b[0;34m\u001b[0m\u001b[0;34m\u001b[0m\u001b[0m\n",
            "\u001b[0;32m/usr/local/lib/python3.10/dist-packages/pandas/io/common.py\u001b[0m in \u001b[0;36mget_handle\u001b[0;34m(path_or_buf, mode, encoding, compression, memory_map, is_text, errors, storage_options)\u001b[0m\n\u001b[1;32m    871\u001b[0m         \u001b[0;32mif\u001b[0m \u001b[0mioargs\u001b[0m\u001b[0;34m.\u001b[0m\u001b[0mencoding\u001b[0m \u001b[0;32mand\u001b[0m \u001b[0;34m\"b\"\u001b[0m \u001b[0;32mnot\u001b[0m \u001b[0;32min\u001b[0m \u001b[0mioargs\u001b[0m\u001b[0;34m.\u001b[0m\u001b[0mmode\u001b[0m\u001b[0;34m:\u001b[0m\u001b[0;34m\u001b[0m\u001b[0;34m\u001b[0m\u001b[0m\n\u001b[1;32m    872\u001b[0m             \u001b[0;31m# Encoding\u001b[0m\u001b[0;34m\u001b[0m\u001b[0;34m\u001b[0m\u001b[0m\n\u001b[0;32m--> 873\u001b[0;31m             handle = open(\n\u001b[0m\u001b[1;32m    874\u001b[0m                 \u001b[0mhandle\u001b[0m\u001b[0;34m,\u001b[0m\u001b[0;34m\u001b[0m\u001b[0;34m\u001b[0m\u001b[0m\n\u001b[1;32m    875\u001b[0m                 \u001b[0mioargs\u001b[0m\u001b[0;34m.\u001b[0m\u001b[0mmode\u001b[0m\u001b[0;34m,\u001b[0m\u001b[0;34m\u001b[0m\u001b[0;34m\u001b[0m\u001b[0m\n",
            "\u001b[0;31mFileNotFoundError\u001b[0m: [Errno 2] No such file or directory: 'summer.csv'"
          ]
        }
      ]
    },
    {
      "cell_type": "markdown",
      "source": [
        "Adatok beimportálása pandas használatával"
      ],
      "metadata": {
        "id": "Lq24DqE2ms5s"
      }
    },
    {
      "cell_type": "markdown",
      "source": [
        "Adatok vizsgálata és formázása használható állapotra"
      ],
      "metadata": {
        "id": "vvlJUpVemwfU"
      }
    },
    {
      "cell_type": "code",
      "source": [
        "summer.head()"
      ],
      "metadata": {
        "id": "84hvISA_DM16"
      },
      "execution_count": null,
      "outputs": []
    },
    {
      "cell_type": "code",
      "source": [
        "summer.info()"
      ],
      "metadata": {
        "id": "QxcZKHkqDRUk"
      },
      "execution_count": null,
      "outputs": []
    },
    {
      "cell_type": "code",
      "source": [
        "winter.head()"
      ],
      "metadata": {
        "id": "v3Ij7iY4DXJ1"
      },
      "execution_count": null,
      "outputs": []
    },
    {
      "cell_type": "code",
      "source": [
        "winter.info()"
      ],
      "metadata": {
        "id": "zWEoq7DvDbsQ"
      },
      "execution_count": null,
      "outputs": []
    },
    {
      "cell_type": "code",
      "source": [
        "dic.head()"
      ],
      "metadata": {
        "id": "arFUaYKMDr5W"
      },
      "execution_count": null,
      "outputs": []
    },
    {
      "cell_type": "code",
      "source": [
        "dic.info()"
      ],
      "metadata": {
        "id": "il7v0DtnEU2A"
      },
      "execution_count": null,
      "outputs": []
    },
    {
      "cell_type": "code",
      "source": [
        "dic[dic.isnull().any(axis = 1)]\n"
      ],
      "metadata": {
        "id": "W9y1DxP-EWwz"
      },
      "execution_count": null,
      "outputs": []
    },
    {
      "cell_type": "code",
      "source": [
        "olympics = pd.concat([summer, winter], axis =0, keys=[\"Summer\", \"Winter\"],\n",
        "         names=[\"Edition\"]).reset_index().drop(columns = \"level_1\")\n",
        "olympics"
      ],
      "metadata": {
        "id": "Ss0sjiofEZz4"
      },
      "execution_count": null,
      "outputs": []
    },
    {
      "cell_type": "code",
      "source": [
        "olympics.head()"
      ],
      "metadata": {
        "id": "2ft4hXnTEfSg"
      },
      "execution_count": null,
      "outputs": []
    },
    {
      "cell_type": "code",
      "source": [
        "dic.head()"
      ],
      "metadata": {
        "id": "52q0-YtgEkn9"
      },
      "execution_count": null,
      "outputs": []
    },
    {
      "cell_type": "code",
      "source": [
        "olympics = olympics.merge(dic.iloc[:, :2], how =\"left\", left_on=\"Country\", right_on=\"Code\").drop(columns= [\"Code\"])\n",
        "olympics"
      ],
      "metadata": {
        "id": "HFywaY2Z-x19"
      },
      "execution_count": null,
      "outputs": []
    },
    {
      "cell_type": "code",
      "source": [
        "olympics"
      ],
      "metadata": {
        "id": "iSarVojdAFSJ"
      },
      "execution_count": null,
      "outputs": []
    },
    {
      "cell_type": "code",
      "source": [
        "olympics.rename(columns={\"Country_x\": \"Code\", \"Country_y\": \"Country\"}, inplace = True)"
      ],
      "metadata": {
        "id": "On1yHbNdfGyw"
      },
      "execution_count": null,
      "outputs": []
    },
    {
      "cell_type": "code",
      "source": [
        "dic\n"
      ],
      "metadata": {
        "id": "JoZKEfFUfkHE"
      },
      "execution_count": null,
      "outputs": []
    },
    {
      "cell_type": "code",
      "source": [
        "dic.rename(columns= {\"GDP per Capita\": \"GPD\"}, inplace = True)"
      ],
      "metadata": {
        "id": "9Uez8gUufk5m"
      },
      "execution_count": null,
      "outputs": []
    },
    {
      "cell_type": "markdown",
      "source": [],
      "metadata": {
        "id": "Ie053iKuf_7N"
      }
    },
    {
      "cell_type": "code",
      "source": [
        "olympics.info()"
      ],
      "metadata": {
        "id": "_Bf8VJqTf_cY"
      },
      "execution_count": null,
      "outputs": []
    },
    {
      "cell_type": "code",
      "source": [
        "olympics.loc[olympics[\"Country\"].isnull()]"
      ],
      "metadata": {
        "id": "Yz3vaU6ZgZtu"
      },
      "execution_count": null,
      "outputs": []
    },
    {
      "cell_type": "code",
      "source": [
        "missing_C_index = olympics.loc[olympics[\"Country\"].isnull()].index\n",
        "missing_C_index"
      ],
      "metadata": {
        "id": "q3WgaXyUgbJr"
      },
      "execution_count": null,
      "outputs": []
    },
    {
      "cell_type": "code",
      "source": [
        "olympics.loc[olympics[\"Country\"].isnull()][\"Code\"].value_counts()"
      ],
      "metadata": {
        "id": "LfXM7kIxgckC"
      },
      "execution_count": null,
      "outputs": []
    },
    {
      "cell_type": "code",
      "source": [
        "old_c = olympics.loc[olympics[\"Country\"].isnull(), :][\"Code\"].value_counts().index\n",
        "old_c"
      ],
      "metadata": {
        "id": "MIFz35NegebK"
      },
      "execution_count": null,
      "outputs": []
    },
    {
      "cell_type": "code",
      "source": [
        "mapper = pd.Series(index=old_c, name = \"Country\", data = [\"Soviet Union\", \"East Germany\", \"Romania\", \"West Germany\", \"Czechoslovakia\",\n",
        "                               \"Yugoslavia\", \"Unified Team\", \"Unified Team of Germany\", \"Mixed teams\", \"Serbia\",\n",
        "                              \"Australasia\", \"Russian Empire\", \"Montenegro\", \"Trinidad and Tobago\", \"Bohemia\",\n",
        "                              \"West Indies Federation\", \"Singapore\", \"Independent Olympic Participants\"])"
      ],
      "metadata": {
        "id": "UP38aUM_guVj"
      },
      "execution_count": null,
      "outputs": []
    },
    {
      "cell_type": "code",
      "source": [],
      "metadata": {
        "id": "3V9JSFFHk_x_"
      },
      "execution_count": null,
      "outputs": []
    },
    {
      "cell_type": "markdown",
      "source": [],
      "metadata": {
        "id": "7tHIrQA8gw_I"
      }
    },
    {
      "cell_type": "code",
      "source": [
        "mapper"
      ],
      "metadata": {
        "id": "Vmn-pNTvgiei"
      },
      "execution_count": null,
      "outputs": []
    },
    {
      "cell_type": "code",
      "source": [
        "olympics.loc[missing_C_index, \"Code\"].map(mapper)"
      ],
      "metadata": {
        "id": "dZp7rPdzgx-3"
      },
      "execution_count": null,
      "outputs": []
    },
    {
      "cell_type": "code",
      "source": [
        "olympics[\"Country\"].fillna(olympics[\"Code\"].map(mapper), inplace = True)"
      ],
      "metadata": {
        "id": "4Lc_0NqSlgy1"
      },
      "execution_count": null,
      "outputs": []
    },
    {
      "cell_type": "markdown",
      "source": [],
      "metadata": {
        "id": "YDA874rilstP"
      }
    },
    {
      "cell_type": "code",
      "source": [
        "olympics.loc[missing_C_index]"
      ],
      "metadata": {
        "id": "bNQxyEHwli6f"
      },
      "execution_count": null,
      "outputs": []
    },
    {
      "cell_type": "markdown",
      "source": [],
      "metadata": {
        "id": "irUF74NpmA46"
      }
    },
    {
      "cell_type": "code",
      "source": [
        "olympics.info()"
      ],
      "metadata": {
        "id": "lEZlF6u6l_x_"
      },
      "execution_count": null,
      "outputs": []
    },
    {
      "cell_type": "code",
      "source": [
        "olympics[olympics[\"Code\"].isnull()]"
      ],
      "metadata": {
        "id": "1oru2rVEmDOF"
      },
      "execution_count": null,
      "outputs": []
    },
    {
      "cell_type": "code",
      "source": [
        "olympics.dropna(subset=[\"Code\"], inplace = True)"
      ],
      "metadata": {
        "id": "XfdppLwnmEzM"
      },
      "execution_count": null,
      "outputs": []
    },
    {
      "cell_type": "code",
      "source": [
        "olympics.info()"
      ],
      "metadata": {
        "id": "1FjF1Ob-mIJk"
      },
      "execution_count": null,
      "outputs": []
    },
    {
      "cell_type": "code",
      "source": [
        "olympics.reset_index(drop= True, inplace= True)\n"
      ],
      "metadata": {
        "id": "b2h0yh8DmJ32"
      },
      "execution_count": null,
      "outputs": []
    },
    {
      "cell_type": "code",
      "source": [
        "olympics.nunique()"
      ],
      "metadata": {
        "id": "8ohyQ9l2mMgt"
      },
      "execution_count": null,
      "outputs": []
    },
    {
      "cell_type": "code",
      "source": [
        "olympics[\"Medal\"] = olympics[\"Medal\"].astype(\"category\")\n",
        "olympics.info()"
      ],
      "metadata": {
        "id": "EQCge69HmQH_"
      },
      "execution_count": null,
      "outputs": []
    },
    {
      "cell_type": "code",
      "source": [
        "olympics[\"Medal\"].sort_values()"
      ],
      "metadata": {
        "id": "-1j-AlOkmUsX"
      },
      "execution_count": null,
      "outputs": []
    },
    {
      "cell_type": "code",
      "source": [
        "olympics[\"Medal\"] = olympics[\"Medal\"].cat.set_categories([\"Bronze\", \"Silver\", \"Gold\"], ordered = True)"
      ],
      "metadata": {
        "id": "SQZbUBM1mXK1"
      },
      "execution_count": null,
      "outputs": []
    },
    {
      "cell_type": "code",
      "source": [
        "olympics[\"Medal\"].sort_values()"
      ],
      "metadata": {
        "id": "ELiKkKgUmY6i"
      },
      "execution_count": null,
      "outputs": []
    },
    {
      "cell_type": "markdown",
      "source": [
        "Vizualizációk Elemzések készítése"
      ],
      "metadata": {
        "id": "ILrh-gnnm4JB"
      }
    },
    {
      "cell_type": "code",
      "source": [
        "import matplotlib.pyplot as plt\n",
        "import seaborn as sns"
      ],
      "metadata": {
        "id": "EtEpv3qcm8Mw"
      },
      "execution_count": null,
      "outputs": []
    },
    {
      "cell_type": "code",
      "source": [
        "top10 = olympics[\"Country\"].value_counts().head(10)\n",
        "top10"
      ],
      "metadata": {
        "id": "34nKy71Yn96R"
      },
      "execution_count": null,
      "outputs": []
    },
    {
      "cell_type": "code",
      "source": [
        "olympics_10 = olympics[olympics['Country'].isin(top10.index)]\n",
        "olympics_10"
      ],
      "metadata": {
        "id": "fJhHkwb2opX_"
      },
      "execution_count": null,
      "outputs": []
    },
    {
      "cell_type": "code",
      "source": [
        "top10.plot(kind = 'bar', fontsize = 15, figsize=(12,8))\n",
        "plt.title(\"Top 10 Countries By Medal\", fontsize = 15)\n",
        "plt.ylabel(\"Medals\", fontsize = 14)\n",
        "plt.show()"
      ],
      "metadata": {
        "id": "CC4h03arpxUQ"
      },
      "execution_count": null,
      "outputs": []
    },
    {
      "cell_type": "code",
      "source": [
        "plt.figure(figsize=(20,10))\n",
        "sns.set(font_scale = 1.5, palette = 'dark')\n",
        "sns.countplot(data = olympics_10, x =\"Country\", hue = \"Edition\", order= top10.index)\n",
        "plt.title(\"Top 10 Countires By Medal\", fontsize = 20)\n",
        "plt.show()"
      ],
      "metadata": {
        "id": "H4L3nvFzoSDE"
      },
      "execution_count": null,
      "outputs": []
    },
    {
      "cell_type": "code",
      "source": [
        "plt.figure(figsize=(20,10))\n",
        "sns.set(font_scale = 1.5, palette = 'bright')\n",
        "sns.countplot(data = olympics_10, x =\"Edition\", hue = \"Country\", hue_order= top10.index)\n",
        "plt.title(\"Top 10 Countires By Medal\", fontsize = 20)\n",
        "plt.show()"
      ],
      "metadata": {
        "id": "IYTTyfV2qFp_"
      },
      "execution_count": null,
      "outputs": []
    },
    {
      "cell_type": "code",
      "source": [
        "plt.figure(figsize=(20,10))\n",
        "sns.set(font_scale=1.5, palette= \"dark\")\n",
        "sns.countplot(data = olympics_10, x = \"Country\", hue = \"Medal\", order = top10.index,\n",
        "              hue_order = [\"Gold\", \"Silver\", \"Bronze\"], palette = [\"gold\", \"silver\", \"brown\"])\n",
        "plt.title(\"Top 10 Countries by Medals\", fontsize = 20)\n",
        "plt.show()"
      ],
      "metadata": {
        "id": "Ut7wzlleqiYu"
      },
      "execution_count": null,
      "outputs": []
    },
    {
      "cell_type": "code",
      "source": [
        "sum_vs_win = pd.crosstab(olympics[\"Country\"], olympics[\"Edition\"])\n",
        "sum_vs_win\n",
        "men_vs_women = pd.crosstab(olympics[\"Country\"], olympics[\"Gender\"])\n",
        "men_vs_women\n",
        "medals_by_cats = pd.concat([sum_vs_win, men_vs_women], axis = 1)\n",
        "medals_by_cats\n",
        "medals_by_cats[\"Total\"] = medals_by_cats[\"Summer\"] + medals_by_cats[\"Winter\"]\n",
        "medals_by_cats\n",
        "medals_by_cats.sort_values(\"Total\", ascending = False, inplace = True)\n",
        "medals_by_cats\n",
        "ranks = medals_by_cats.rank(ascending = False, method = \"average\")\n",
        "ranks"
      ],
      "metadata": {
        "id": "7c67TY5lrqrO"
      },
      "execution_count": null,
      "outputs": []
    },
    {
      "cell_type": "code",
      "source": [
        "top50 = ranks.head(50)\n",
        "top50"
      ],
      "metadata": {
        "id": "NpMgvCd4sbzx"
      },
      "execution_count": null,
      "outputs": []
    },
    {
      "cell_type": "code",
      "source": [
        "plt.figure(figsize= (50,10))\n",
        "sns.heatmap(top50.T, cmap = \"RdYlGn_r\", annot=True, fmt='2.0f')\n",
        "plt.show()"
      ],
      "metadata": {
        "id": "DjrH7wpdqtml"
      },
      "execution_count": null,
      "outputs": []
    },
    {
      "cell_type": "code",
      "source": [],
      "metadata": {
        "id": "Eonxb7jKskJw"
      },
      "execution_count": null,
      "outputs": []
    }
  ]
}